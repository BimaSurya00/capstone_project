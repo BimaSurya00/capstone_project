{
 "cells": [
  {
   "cell_type": "markdown",
   "id": "73538f87",
   "metadata": {},
   "source": [
    "## Import Library"
   ]
  },
  {
   "cell_type": "code",
   "execution_count": 1,
   "id": "6ef25a3f",
   "metadata": {},
   "outputs": [],
   "source": [
    "import cv2\n",
    "import os\n",
    "import numpy as np\n",
    "from keras.utils import np_utils\n",
    "from sklearn.model_selection import train_test_split\n",
    "import tensorflow as tf\n",
    "from keras.models import Sequential\n",
    "from keras.layers import Dense,Activation,Flatten,Dropout\n",
    "from keras.layers import Conv2D,MaxPooling2D\n",
    "from keras.callbacks import ModelCheckpoint\n",
    "from matplotlib import pyplot as plt"
   ]
  },
  {
   "cell_type": "markdown",
   "id": "b5b0edc0",
   "metadata": {},
   "source": [
    "## Load Data"
   ]
  },
  {
   "cell_type": "code",
   "execution_count": 2,
   "id": "e15cc2b5",
   "metadata": {},
   "outputs": [
    {
     "name": "stdout",
     "output_type": "stream",
     "text": [
      "['new_without_mask', 'new_with_mask']\n",
      "[0, 1]\n",
      "{'new_without_mask': 0, 'new_with_mask': 1}\n"
     ]
    }
   ],
   "source": [
    "base_dir = 'Facemask Dataset'\n",
    "categories = os.listdir(base_dir)\n",
    "labels = [i for i in range (len(categories))]\n",
    "label_dict = dict(zip(categories, labels))\n",
    "\n",
    "print(categories)\n",
    "print(labels)\n",
    "print(label_dict)"
   ]
  },
  {
   "cell_type": "markdown",
   "id": "87618d41",
   "metadata": {},
   "source": [
    "## Data Preprocessing"
   ]
  },
  {
   "cell_type": "code",
   "execution_count": 3,
   "id": "2eaab2cd",
   "metadata": {},
   "outputs": [],
   "source": [
    "img_size=100\n",
    "data=[]\n",
    "target=[]\n",
    "\n",
    "for category in categories:\n",
    "    path=os.path.join(base_dir,category)\n",
    "    img_names=os.listdir(path)\n",
    "        \n",
    "    for img_name in img_names:\n",
    "        img_path=os.path.join(path,img_name)\n",
    "        img=cv2.imread(img_path)\n",
    "\n",
    "        try:\n",
    "            gray=cv2.cvtColor(img,cv2.COLOR_BGR2GRAY) \n",
    "            resized=cv2.resize(gray,(img_size,img_size))\n",
    "            data.append(resized)\n",
    "            target.append(label_dict[category])\n",
    "\n",
    "        except Exception as e:\n",
    "            print('Exception:',e) "
   ]
  },
  {
   "cell_type": "code",
   "execution_count": 4,
   "id": "736251ea",
   "metadata": {},
   "outputs": [],
   "source": [
    "data=np.array(data)/255.0\n",
    "data=np.reshape(data,(data.shape[0],img_size,img_size,1))\n",
    "target=np.array(target)\n",
    "new_target=np_utils.to_categorical(target)"
   ]
  },
  {
   "cell_type": "code",
   "execution_count": 5,
   "id": "d68ecf5e",
   "metadata": {},
   "outputs": [],
   "source": [
    "np.save('data',data)\n",
    "np.save('target',new_target)"
   ]
  },
  {
   "cell_type": "code",
   "execution_count": 6,
   "id": "bd276c44",
   "metadata": {},
   "outputs": [
    {
     "data": {
      "text/plain": [
       "array([[[[0.60392157],\n",
       "         [0.60392157],\n",
       "         [0.6       ],\n",
       "         ...,\n",
       "         [0.64313725],\n",
       "         [0.64313725],\n",
       "         [0.64705882]],\n",
       "\n",
       "        [[0.60392157],\n",
       "         [0.60784314],\n",
       "         [0.6       ],\n",
       "         ...,\n",
       "         [0.64313725],\n",
       "         [0.63921569],\n",
       "         [0.63529412]],\n",
       "\n",
       "        [[0.6       ],\n",
       "         [0.6       ],\n",
       "         [0.6       ],\n",
       "         ...,\n",
       "         [0.63529412],\n",
       "         [0.63137255],\n",
       "         [0.63529412]],\n",
       "\n",
       "        ...,\n",
       "\n",
       "        [[0.62352941],\n",
       "         [0.54509804],\n",
       "         [0.56862745],\n",
       "         ...,\n",
       "         [0.56078431],\n",
       "         [0.54117647],\n",
       "         [0.54509804]],\n",
       "\n",
       "        [[0.58039216],\n",
       "         [0.50196078],\n",
       "         [0.55686275],\n",
       "         ...,\n",
       "         [0.50196078],\n",
       "         [0.5254902 ],\n",
       "         [0.50980392]],\n",
       "\n",
       "        [[0.58431373],\n",
       "         [0.55686275],\n",
       "         [0.58039216],\n",
       "         ...,\n",
       "         [0.47058824],\n",
       "         [0.50196078],\n",
       "         [0.49411765]]],\n",
       "\n",
       "\n",
       "       [[[0.53333333],\n",
       "         [0.53333333],\n",
       "         [0.52941176],\n",
       "         ...,\n",
       "         [0.5372549 ],\n",
       "         [0.53333333],\n",
       "         [0.54117647]],\n",
       "\n",
       "        [[0.54509804],\n",
       "         [0.5372549 ],\n",
       "         [0.52941176],\n",
       "         ...,\n",
       "         [0.52941176],\n",
       "         [0.5372549 ],\n",
       "         [0.5372549 ]],\n",
       "\n",
       "        [[0.54509804],\n",
       "         [0.54117647],\n",
       "         [0.5372549 ],\n",
       "         ...,\n",
       "         [0.53333333],\n",
       "         [0.5372549 ],\n",
       "         [0.5372549 ]],\n",
       "\n",
       "        ...,\n",
       "\n",
       "        [[0.51372549],\n",
       "         [0.51372549],\n",
       "         [0.51764706],\n",
       "         ...,\n",
       "         [0.49803922],\n",
       "         [0.49803922],\n",
       "         [0.49019608]],\n",
       "\n",
       "        [[0.51372549],\n",
       "         [0.51764706],\n",
       "         [0.52156863],\n",
       "         ...,\n",
       "         [0.42352941],\n",
       "         [0.48235294],\n",
       "         [0.47843137]],\n",
       "\n",
       "        [[0.5254902 ],\n",
       "         [0.52156863],\n",
       "         [0.51764706],\n",
       "         ...,\n",
       "         [0.35294118],\n",
       "         [0.40392157],\n",
       "         [0.47058824]]],\n",
       "\n",
       "\n",
       "       [[[0.95294118],\n",
       "         [0.95294118],\n",
       "         [0.94901961],\n",
       "         ...,\n",
       "         [0.9372549 ],\n",
       "         [0.94117647],\n",
       "         [0.94901961]],\n",
       "\n",
       "        [[0.95294118],\n",
       "         [0.95294118],\n",
       "         [0.94901961],\n",
       "         ...,\n",
       "         [0.94509804],\n",
       "         [0.94509804],\n",
       "         [0.94509804]],\n",
       "\n",
       "        [[0.94901961],\n",
       "         [0.94509804],\n",
       "         [0.94509804],\n",
       "         ...,\n",
       "         [0.94117647],\n",
       "         [0.94117647],\n",
       "         [0.94509804]],\n",
       "\n",
       "        ...,\n",
       "\n",
       "        [[0.41568627],\n",
       "         [0.47058824],\n",
       "         [0.4745098 ],\n",
       "         ...,\n",
       "         [0.90980392],\n",
       "         [0.90980392],\n",
       "         [0.90980392]],\n",
       "\n",
       "        [[0.46666667],\n",
       "         [0.4       ],\n",
       "         [0.34117647],\n",
       "         ...,\n",
       "         [0.90980392],\n",
       "         [0.90980392],\n",
       "         [0.91764706]],\n",
       "\n",
       "        [[0.36078431],\n",
       "         [0.31764706],\n",
       "         [0.33333333],\n",
       "         ...,\n",
       "         [0.90980392],\n",
       "         [0.91372549],\n",
       "         [0.92156863]]],\n",
       "\n",
       "\n",
       "       ...,\n",
       "\n",
       "\n",
       "       [[[0.60392157],\n",
       "         [0.59607843],\n",
       "         [0.59607843],\n",
       "         ...,\n",
       "         [0.57254902],\n",
       "         [0.57647059],\n",
       "         [0.58823529]],\n",
       "\n",
       "        [[0.59607843],\n",
       "         [0.59607843],\n",
       "         [0.59607843],\n",
       "         ...,\n",
       "         [0.59215686],\n",
       "         [0.58039216],\n",
       "         [0.58039216]],\n",
       "\n",
       "        [[0.6       ],\n",
       "         [0.59607843],\n",
       "         [0.59607843],\n",
       "         ...,\n",
       "         [0.58431373],\n",
       "         [0.58039216],\n",
       "         [0.57647059]],\n",
       "\n",
       "        ...,\n",
       "\n",
       "        [[0.63137255],\n",
       "         [0.63137255],\n",
       "         [0.61176471],\n",
       "         ...,\n",
       "         [0.60392157],\n",
       "         [0.61176471],\n",
       "         [0.60784314]],\n",
       "\n",
       "        [[0.62352941],\n",
       "         [0.62352941],\n",
       "         [0.60784314],\n",
       "         ...,\n",
       "         [0.61176471],\n",
       "         [0.61568627],\n",
       "         [0.60784314]],\n",
       "\n",
       "        [[0.62745098],\n",
       "         [0.61568627],\n",
       "         [0.45490196],\n",
       "         ...,\n",
       "         [0.61176471],\n",
       "         [0.61568627],\n",
       "         [0.61176471]]],\n",
       "\n",
       "\n",
       "       [[[0.33333333],\n",
       "         [0.33333333],\n",
       "         [0.3372549 ],\n",
       "         ...,\n",
       "         [0.50196078],\n",
       "         [0.49803922],\n",
       "         [0.51764706]],\n",
       "\n",
       "        [[0.3372549 ],\n",
       "         [0.34117647],\n",
       "         [0.34117647],\n",
       "         ...,\n",
       "         [0.50196078],\n",
       "         [0.50588235],\n",
       "         [0.50588235]],\n",
       "\n",
       "        [[0.34117647],\n",
       "         [0.34509804],\n",
       "         [0.34509804],\n",
       "         ...,\n",
       "         [0.50196078],\n",
       "         [0.50588235],\n",
       "         [0.51372549]],\n",
       "\n",
       "        ...,\n",
       "\n",
       "        [[0.09019608],\n",
       "         [0.16470588],\n",
       "         [0.14901961],\n",
       "         ...,\n",
       "         [0.32156863],\n",
       "         [0.32156863],\n",
       "         [0.31372549]],\n",
       "\n",
       "        [[0.10588235],\n",
       "         [0.1254902 ],\n",
       "         [0.18823529],\n",
       "         ...,\n",
       "         [0.31764706],\n",
       "         [0.31764706],\n",
       "         [0.31372549]],\n",
       "\n",
       "        [[0.1372549 ],\n",
       "         [0.20392157],\n",
       "         [0.17254902],\n",
       "         ...,\n",
       "         [0.31372549],\n",
       "         [0.30980392],\n",
       "         [0.31764706]]],\n",
       "\n",
       "\n",
       "       [[[0.68627451],\n",
       "         [0.69803922],\n",
       "         [0.70196078],\n",
       "         ...,\n",
       "         [0.61176471],\n",
       "         [0.60392157],\n",
       "         [0.61176471]],\n",
       "\n",
       "        [[0.68627451],\n",
       "         [0.69803922],\n",
       "         [0.70588235],\n",
       "         ...,\n",
       "         [0.61568627],\n",
       "         [0.61176471],\n",
       "         [0.61176471]],\n",
       "\n",
       "        [[0.67843137],\n",
       "         [0.69019608],\n",
       "         [0.70196078],\n",
       "         ...,\n",
       "         [0.61960784],\n",
       "         [0.61176471],\n",
       "         [0.61176471]],\n",
       "\n",
       "        ...,\n",
       "\n",
       "        [[0.44313725],\n",
       "         [0.34509804],\n",
       "         [0.38823529],\n",
       "         ...,\n",
       "         [0.50196078],\n",
       "         [0.52941176],\n",
       "         [0.55686275]],\n",
       "\n",
       "        [[0.42352941],\n",
       "         [0.36862745],\n",
       "         [0.40784314],\n",
       "         ...,\n",
       "         [0.49411765],\n",
       "         [0.51372549],\n",
       "         [0.54117647]],\n",
       "\n",
       "        [[0.35294118],\n",
       "         [0.37647059],\n",
       "         [0.42352941],\n",
       "         ...,\n",
       "         [0.48627451],\n",
       "         [0.49019608],\n",
       "         [0.50980392]]]])"
      ]
     },
     "execution_count": 6,
     "metadata": {},
     "output_type": "execute_result"
    }
   ],
   "source": [
    "data"
   ]
  },
  {
   "cell_type": "code",
   "execution_count": 7,
   "id": "335ffad4",
   "metadata": {},
   "outputs": [
    {
     "data": {
      "text/plain": [
       "array([0, 0, 0, ..., 1, 1, 1])"
      ]
     },
     "execution_count": 7,
     "metadata": {},
     "output_type": "execute_result"
    }
   ],
   "source": [
    "target"
   ]
  },
  {
   "cell_type": "markdown",
   "id": "df6d235b",
   "metadata": {},
   "source": [
    "## Modelling and compile "
   ]
  },
  {
   "cell_type": "code",
   "execution_count": 15,
   "id": "3bc1a502",
   "metadata": {},
   "outputs": [],
   "source": [
    "model = Sequential([\n",
    "    Conv2D(200, (3,3), activation='relu', input_shape=data.shape[1:]),\n",
    "    MaxPooling2D(2, 2),\n",
    "    Conv2D(100, (3,3), activation='relu'),\n",
    "    MaxPooling2D(2,2),\n",
    "    Flatten(),\n",
    "    Dropout(0.5),\n",
    "    Dense(50, activation='relu'),\n",
    "    Dense(1, activation='sigmoid')\n",
    "])"
   ]
  },
  {
   "cell_type": "code",
   "execution_count": 16,
   "id": "503176b7",
   "metadata": {},
   "outputs": [
    {
     "name": "stdout",
     "output_type": "stream",
     "text": [
      "Model: \"sequential_2\"\n",
      "_________________________________________________________________\n",
      " Layer (type)                Output Shape              Param #   \n",
      "=================================================================\n",
      " conv2d_4 (Conv2D)           (None, 98, 98, 200)       2000      \n",
      "                                                                 \n",
      " max_pooling2d_4 (MaxPooling  (None, 49, 49, 200)      0         \n",
      " 2D)                                                             \n",
      "                                                                 \n",
      " conv2d_5 (Conv2D)           (None, 47, 47, 100)       180100    \n",
      "                                                                 \n",
      " max_pooling2d_5 (MaxPooling  (None, 23, 23, 100)      0         \n",
      " 2D)                                                             \n",
      "                                                                 \n",
      " flatten_2 (Flatten)         (None, 52900)             0         \n",
      "                                                                 \n",
      " dropout_2 (Dropout)         (None, 52900)             0         \n",
      "                                                                 \n",
      " dense_4 (Dense)             (None, 50)                2645050   \n",
      "                                                                 \n",
      " dense_5 (Dense)             (None, 1)                 51        \n",
      "                                                                 \n",
      "=================================================================\n",
      "Total params: 2,827,201\n",
      "Trainable params: 2,827,201\n",
      "Non-trainable params: 0\n",
      "_________________________________________________________________\n"
     ]
    }
   ],
   "source": [
    "model.summary()"
   ]
  },
  {
   "cell_type": "code",
   "execution_count": 17,
   "id": "bc539cf1",
   "metadata": {},
   "outputs": [],
   "source": [
    "model.compile(loss='binary_crossentropy',optimizer='adam',metrics=['accuracy'])"
   ]
  },
  {
   "cell_type": "markdown",
   "id": "4398df3b",
   "metadata": {},
   "source": [
    "## Split Data"
   ]
  },
  {
   "cell_type": "code",
   "execution_count": 18,
   "id": "d5027e11",
   "metadata": {},
   "outputs": [],
   "source": [
    "train_data,test_data,train_target,test_target=train_test_split(data,target,test_size=0.2, random_state=1)"
   ]
  },
  {
   "cell_type": "code",
   "execution_count": 19,
   "id": "8ce61b40",
   "metadata": {},
   "outputs": [
    {
     "name": "stdout",
     "output_type": "stream",
     "text": [
      "Jumlah train_data : 8903\n",
      "Jumlah train_target : 8903\n",
      "Jumlah test_data : 2226\n",
      "Jumlah test_target : 2226\n"
     ]
    }
   ],
   "source": [
    "print('Jumlah train_data :', len(train_data))\n",
    "print('Jumlah train_target :', len(train_target))\n",
    "print('Jumlah test_data :', len(test_data))\n",
    "print('Jumlah test_target :', len(test_target))"
   ]
  },
  {
   "cell_type": "markdown",
   "id": "4801e493",
   "metadata": {},
   "source": [
    "## Callback"
   ]
  },
  {
   "cell_type": "code",
   "execution_count": 20,
   "id": "6fcd4b9c",
   "metadata": {},
   "outputs": [],
   "source": [
    "class myCallback(tf.keras.callbacks.Callback):\n",
    "    def on_epoch_end(self, epoch, logs={}):\n",
    "        if(logs.get('accuracy')==1) and (logs.get('val_accuracy')==1):\n",
    "            print(\"\\nAkurasi telah mencapai nilai maksimal, stop training!\")\n",
    "            self.model.stop_training = True\n",
    "callbacks = myCallback()"
   ]
  },
  {
   "cell_type": "markdown",
   "id": "8785fe38",
   "metadata": {},
   "source": [
    "## Training"
   ]
  },
  {
   "cell_type": "code",
   "execution_count": 21,
   "id": "f1160ce9",
   "metadata": {},
   "outputs": [
    {
     "name": "stdout",
     "output_type": "stream",
     "text": [
      "Epoch 1/10\n",
      "223/223 [==============================] - 324s 1s/step - loss: 0.1546 - accuracy: 0.9367 - val_loss: 0.0808 - val_accuracy: 0.9955\n",
      "Epoch 2/10\n",
      "223/223 [==============================] - 304s 1s/step - loss: 0.0626 - accuracy: 0.9985 - val_loss: 0.0689 - val_accuracy: 0.9994\n",
      "Epoch 3/10\n",
      "223/223 [==============================] - 294s 1s/step - loss: 0.0550 - accuracy: 0.9997 - val_loss: 0.0715 - val_accuracy: 0.9910\n",
      "Epoch 4/10\n",
      "223/223 [==============================] - 295s 1s/step - loss: 0.0499 - accuracy: 0.9989 - val_loss: 0.0559 - val_accuracy: 0.9989\n",
      "Epoch 5/10\n",
      "223/223 [==============================] - ETA: 0s - loss: 0.0420 - accuracy: 1.0000\n",
      "Akurasi telah mencapai nilai maksimal, stop training!\n",
      "223/223 [==============================] - 297s 1s/step - loss: 0.0420 - accuracy: 1.0000 - val_loss: 0.0468 - val_accuracy: 1.0000\n"
     ]
    }
   ],
   "source": [
    "history=model.fit(train_data,\n",
    "                  train_target,\n",
    "                  epochs=10,\n",
    "                  validation_split=0.2,\n",
    "                  callbacks=[callbacks]\n",
    "                  )"
   ]
  },
  {
   "cell_type": "markdown",
   "id": "bd19978b",
   "metadata": {},
   "source": [
    "## Plot Accuracy and Loss "
   ]
  },
  {
   "cell_type": "code",
   "execution_count": 22,
   "id": "b06bbab6",
   "metadata": {},
   "outputs": [
    {
     "data": {
      "image/png": "[encoded data removed]",
      "text/plain": [
       "<Figure size 432x288 with 1 Axes>"
      ]
     },
     "metadata": {
      "needs_background": "light"
     },
     "output_type": "display_data"
    }
   ],
   "source": [
    "plt.plot(history.history['accuracy'],'r',label='training accuracy')\n",
    "plt.plot(history.history['val_accuracy'],label='validation accuracy')\n",
    "plt.xlabel('Epochs')\n",
    "plt.ylabel('Accuracy')\n",
    "plt.legend()\n",
    "plt.show()"
   ]
  },
  {
   "cell_type": "code",
   "execution_count": 23,
   "id": "afb1e60d",
   "metadata": {},
   "outputs": [
    {
     "data": {
      "image/png": "[encoded data removed]",
      "text/plain": [
       "<Figure size 432x288 with 1 Axes>"
      ]
     },
     "metadata": {
      "needs_background": "light"
     },
     "output_type": "display_data"
    }
   ],
   "source": [
    "plt.plot(history.history['loss'],'r',label='training loss')\n",
    "plt.plot(history.history['val_loss'],label='validation loss')\n",
    "plt.xlabel('Epochs')\n",
    "plt.ylabel('Loss')\n",
    "plt.legend()\n",
    "plt.show()"
   ]
  },
  {
   "cell_type": "markdown",
   "id": "b9fa0cbb",
   "metadata": {},
   "source": [
    "## Evaluate and Save Model"
   ]
  },
  {
   "cell_type": "code",
   "execution_count": 24,
   "id": "6cce1562",
   "metadata": {},
   "outputs": [
    {
     "name": "stdout",
     "output_type": "stream",
     "text": [
      "70/70 [==============================] - 21s 292ms/step - loss: 0.0375 - accuracy: 1.0000\n",
      "[0.03745436295866966, 1.0]\n"
     ]
    }
   ],
   "source": [
    "print(model.evaluate(test_data,test_target))"
   ]
  },
  {
   "cell_type": "code",
   "execution_count": 25,
   "id": "ef0e4ef5",
   "metadata": {},
   "outputs": [],
   "source": [
    "model.save('facemask-detection-model.h5')"
   ]
  }
 ],
 "metadata": {
  "kernelspec": {
   "display_name": "Python 3",
   "language": "python",
   "name": "python3"
  },
  "language_info": {
   "codemirror_mode": {
    "name": "ipython",
    "version": 3
   },
   "file_extension": ".py",
   "mimetype": "text/x-python",
   "name": "python",
   "nbconvert_exporter": "python",
   "pygments_lexer": "ipython3",
   "version": "3.8.8"
  }
 },
 "nbformat": 4,
 "nbformat_minor": 5
}
