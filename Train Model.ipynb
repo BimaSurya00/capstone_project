{
 "cells": [
  {
   "cell_type": "markdown",
   "id": "73538f87",
   "metadata": {},
   "source": [
    "## Import Library"
   ]
  },
  {
   "cell_type": "code",
   "execution_count": 1,
   "id": "6ef25a3f",
   "metadata": {},
   "outputs": [],
   "source": [
    "import os\n",
    "import cv2\n",
    "import numpy as np\n",
    "from keras.utils import np_utils\n",
    "from sklearn.model_selection import train_test_split\n",
    "import tensorflow as tf\n",
    "from keras.models import Sequential\n",
    "from keras.layers import Dense,Activation,Flatten,Dropout\n",
    "from keras.layers import Conv2D,MaxPooling2D\n",
    "from keras.callbacks import ModelCheckpoint\n",
    "from tensorflow.keras.preprocessing import image\n",
    "from matplotlib import pyplot as plt"
   ]
  },
  {
   "cell_type": "markdown",
   "id": "b5b0edc0",
   "metadata": {},
   "source": [
    "## Load Data"
   ]
  },
  {
   "cell_type": "code",
   "execution_count": 2,
   "id": "e15cc2b5",
   "metadata": {},
   "outputs": [
    {
     "name": "stdout",
     "output_type": "stream",
     "text": [
      "['without_mask', 'with_mask']\n",
      "[0, 1]\n",
      "{'without_mask': 0, 'with_mask': 1}\n"
     ]
    }
   ],
   "source": [
    "base_dir = 'FaceMask-Dataset'\n",
    "categories = os.listdir(base_dir)\n",
    "labels = [i for i in range (len(categories))]\n",
    "label_dict = dict(zip(categories, labels))\n",
    "\n",
    "print(categories)\n",
    "print(labels)\n",
    "print(label_dict)"
   ]
  },
  {
   "cell_type": "markdown",
   "id": "87618d41",
   "metadata": {},
   "source": [
    "## Data Preprocessing"
   ]
  },
  {
   "cell_type": "code",
   "execution_count": 3,
   "id": "2eaab2cd",
   "metadata": {},
   "outputs": [],
   "source": [
    "img_size=100\n",
    "data=[]\n",
    "target=[]\n",
    "\n",
    "for category in categories:\n",
    "    path=os.path.join(base_dir,category)\n",
    "    img_names=os.listdir(path)\n",
    "        \n",
    "    for img_name in img_names:\n",
    "        img_path=os.path.join(path,img_name)\n",
    "        img=cv2.imread(img_path)\n",
    "\n",
    "        try:\n",
    "            gray=cv2.cvtColor(img,cv2.COLOR_BGR2GRAY) \n",
    "            resized=cv2.resize(gray,(img_size,img_size))\n",
    "            data.append(resized)\n",
    "            target.append(label_dict[category])\n",
    "\n",
    "        except Exception as e:\n",
    "            print('Exception:',e) "
   ]
  },
  {
   "cell_type": "code",
   "execution_count": 4,
   "id": "736251ea",
   "metadata": {},
   "outputs": [],
   "source": [
    "data=np.array(data)/255.0\n",
    "data=np.reshape(data,(data.shape[0],img_size,img_size,1))\n",
    "target=np.array(target)\n",
    "#new_target=np_utils.to_categorical(target)"
   ]
  },
  {
   "cell_type": "code",
   "execution_count": null,
   "id": "d68ecf5e",
   "metadata": {},
   "outputs": [],
   "source": [
    "np.save('data',data)\n",
    "np.save('target',new_target)"
   ]
  },
  {
   "cell_type": "code",
   "execution_count": 5,
   "id": "bd276c44",
   "metadata": {},
   "outputs": [
    {
     "data": {
      "text/plain": [
       "array([[[[0.03529412],\n",
       "         [0.03529412],\n",
       "         [0.03921569],\n",
       "         ...,\n",
       "         [0.08235294],\n",
       "         [0.10588235],\n",
       "         [0.10588235]],\n",
       "\n",
       "        [[0.03137255],\n",
       "         [0.03137255],\n",
       "         [0.02745098],\n",
       "         ...,\n",
       "         [0.03137255],\n",
       "         [0.05098039],\n",
       "         [0.05882353]],\n",
       "\n",
       "        [[0.04705882],\n",
       "         [0.03921569],\n",
       "         [0.03921569],\n",
       "         ...,\n",
       "         [0.01568627],\n",
       "         [0.01568627],\n",
       "         [0.01568627]],\n",
       "\n",
       "        ...,\n",
       "\n",
       "        [[0.25882353],\n",
       "         [0.2627451 ],\n",
       "         [0.22745098],\n",
       "         ...,\n",
       "         [0.00392157],\n",
       "         [0.        ],\n",
       "         [0.        ]],\n",
       "\n",
       "        [[0.25882353],\n",
       "         [0.25098039],\n",
       "         [0.20784314],\n",
       "         ...,\n",
       "         [0.00784314],\n",
       "         [0.        ],\n",
       "         [0.        ]],\n",
       "\n",
       "        [[0.23529412],\n",
       "         [0.21960784],\n",
       "         [0.19215686],\n",
       "         ...,\n",
       "         [0.00784314],\n",
       "         [0.        ],\n",
       "         [0.        ]]],\n",
       "\n",
       "\n",
       "       [[[0.36470588],\n",
       "         [0.35686275],\n",
       "         [0.35294118],\n",
       "         ...,\n",
       "         [0.34901961],\n",
       "         [0.3372549 ],\n",
       "         [0.33333333]],\n",
       "\n",
       "        [[0.35294118],\n",
       "         [0.35686275],\n",
       "         [0.35686275],\n",
       "         ...,\n",
       "         [0.34901961],\n",
       "         [0.32941176],\n",
       "         [0.32156863]],\n",
       "\n",
       "        [[0.34509804],\n",
       "         [0.35294118],\n",
       "         [0.35294118],\n",
       "         ...,\n",
       "         [0.50196078],\n",
       "         [0.4627451 ],\n",
       "         [0.41176471]],\n",
       "\n",
       "        ...,\n",
       "\n",
       "        [[0.46666667],\n",
       "         [0.47058824],\n",
       "         [0.4745098 ],\n",
       "         ...,\n",
       "         [0.65882353],\n",
       "         [0.64313725],\n",
       "         [0.61176471]],\n",
       "\n",
       "        [[0.45882353],\n",
       "         [0.46666667],\n",
       "         [0.4745098 ],\n",
       "         ...,\n",
       "         [0.62745098],\n",
       "         [0.60784314],\n",
       "         [0.58823529]],\n",
       "\n",
       "        [[0.43921569],\n",
       "         [0.44705882],\n",
       "         [0.45490196],\n",
       "         ...,\n",
       "         [0.61176471],\n",
       "         [0.59607843],\n",
       "         [0.58823529]]],\n",
       "\n",
       "\n",
       "       [[[0.00784314],\n",
       "         [0.00784314],\n",
       "         [0.01176471],\n",
       "         ...,\n",
       "         [0.01568627],\n",
       "         [0.01568627],\n",
       "         [0.01568627]],\n",
       "\n",
       "        [[0.00784314],\n",
       "         [0.01176471],\n",
       "         [0.01568627],\n",
       "         ...,\n",
       "         [0.01568627],\n",
       "         [0.01568627],\n",
       "         [0.01568627]],\n",
       "\n",
       "        [[0.00784314],\n",
       "         [0.00784314],\n",
       "         [0.01568627],\n",
       "         ...,\n",
       "         [0.01568627],\n",
       "         [0.01960784],\n",
       "         [0.01960784]],\n",
       "\n",
       "        ...,\n",
       "\n",
       "        [[0.18823529],\n",
       "         [0.18823529],\n",
       "         [0.18823529],\n",
       "         ...,\n",
       "         [0.53333333],\n",
       "         [0.5254902 ],\n",
       "         [0.5254902 ]],\n",
       "\n",
       "        [[0.19215686],\n",
       "         [0.18823529],\n",
       "         [0.18431373],\n",
       "         ...,\n",
       "         [0.54117647],\n",
       "         [0.54117647],\n",
       "         [0.52941176]],\n",
       "\n",
       "        [[0.19215686],\n",
       "         [0.18823529],\n",
       "         [0.18431373],\n",
       "         ...,\n",
       "         [0.55686275],\n",
       "         [0.55686275],\n",
       "         [0.56470588]]],\n",
       "\n",
       "\n",
       "       ...,\n",
       "\n",
       "\n",
       "       [[[0.18039216],\n",
       "         [0.16862745],\n",
       "         [0.16470588],\n",
       "         ...,\n",
       "         [0.15686275],\n",
       "         [0.15686275],\n",
       "         [0.18431373]],\n",
       "\n",
       "        [[0.19215686],\n",
       "         [0.16470588],\n",
       "         [0.14901961],\n",
       "         ...,\n",
       "         [0.1372549 ],\n",
       "         [0.15294118],\n",
       "         [0.20392157]],\n",
       "\n",
       "        [[0.19215686],\n",
       "         [0.16470588],\n",
       "         [0.15686275],\n",
       "         ...,\n",
       "         [0.13333333],\n",
       "         [0.14117647],\n",
       "         [0.19215686]],\n",
       "\n",
       "        ...,\n",
       "\n",
       "        [[0.50980392],\n",
       "         [0.50196078],\n",
       "         [0.50980392],\n",
       "         ...,\n",
       "         [0.4       ],\n",
       "         [0.38431373],\n",
       "         [0.3254902 ]],\n",
       "\n",
       "        [[0.5254902 ],\n",
       "         [0.52941176],\n",
       "         [0.53333333],\n",
       "         ...,\n",
       "         [0.36078431],\n",
       "         [0.34901961],\n",
       "         [0.35686275]],\n",
       "\n",
       "        [[0.51764706],\n",
       "         [0.50588235],\n",
       "         [0.50588235],\n",
       "         ...,\n",
       "         [0.36862745],\n",
       "         [0.38431373],\n",
       "         [0.41568627]]],\n",
       "\n",
       "\n",
       "       [[[0.65490196],\n",
       "         [0.59215686],\n",
       "         [0.56862745],\n",
       "         ...,\n",
       "         [0.62745098],\n",
       "         [0.60784314],\n",
       "         [0.60392157]],\n",
       "\n",
       "        [[0.63137255],\n",
       "         [0.58431373],\n",
       "         [0.5372549 ],\n",
       "         ...,\n",
       "         [0.62352941],\n",
       "         [0.60392157],\n",
       "         [0.58823529]],\n",
       "\n",
       "        [[0.59215686],\n",
       "         [0.52156863],\n",
       "         [0.49019608],\n",
       "         ...,\n",
       "         [0.61960784],\n",
       "         [0.59215686],\n",
       "         [0.57647059]],\n",
       "\n",
       "        ...,\n",
       "\n",
       "        [[0.80784314],\n",
       "         [0.81960784],\n",
       "         [0.81568627],\n",
       "         ...,\n",
       "         [0.84313725],\n",
       "         [0.81176471],\n",
       "         [0.82745098]],\n",
       "\n",
       "        [[0.81568627],\n",
       "         [0.82352941],\n",
       "         [0.82745098],\n",
       "         ...,\n",
       "         [0.86666667],\n",
       "         [0.80784314],\n",
       "         [0.8       ]],\n",
       "\n",
       "        [[0.82745098],\n",
       "         [0.84705882],\n",
       "         [0.82745098],\n",
       "         ...,\n",
       "         [0.8745098 ],\n",
       "         [0.84705882],\n",
       "         [0.83529412]]],\n",
       "\n",
       "\n",
       "       [[[0.00784314],\n",
       "         [0.00784314],\n",
       "         [0.00784314],\n",
       "         ...,\n",
       "         [0.00392157],\n",
       "         [0.00392157],\n",
       "         [0.00392157]],\n",
       "\n",
       "        [[0.00784314],\n",
       "         [0.00784314],\n",
       "         [0.00784314],\n",
       "         ...,\n",
       "         [0.00392157],\n",
       "         [0.00392157],\n",
       "         [0.00392157]],\n",
       "\n",
       "        [[0.00392157],\n",
       "         [0.00392157],\n",
       "         [0.00392157],\n",
       "         ...,\n",
       "         [0.00392157],\n",
       "         [0.00392157],\n",
       "         [0.00392157]],\n",
       "\n",
       "        ...,\n",
       "\n",
       "        [[0.00392157],\n",
       "         [0.00392157],\n",
       "         [0.00392157],\n",
       "         ...,\n",
       "         [0.02352941],\n",
       "         [0.00392157],\n",
       "         [0.00784314]],\n",
       "\n",
       "        [[0.00392157],\n",
       "         [0.00392157],\n",
       "         [0.00392157],\n",
       "         ...,\n",
       "         [0.00784314],\n",
       "         [0.00392157],\n",
       "         [0.00784314]],\n",
       "\n",
       "        [[0.00392157],\n",
       "         [0.00392157],\n",
       "         [0.00392157],\n",
       "         ...,\n",
       "         [0.01176471],\n",
       "         [0.00392157],\n",
       "         [0.00784314]]]])"
      ]
     },
     "execution_count": 5,
     "metadata": {},
     "output_type": "execute_result"
    }
   ],
   "source": [
    "data"
   ]
  },
  {
   "cell_type": "code",
   "execution_count": 6,
   "id": "335ffad4",
   "metadata": {},
   "outputs": [
    {
     "data": {
      "text/plain": [
       "array([0, 0, 0, ..., 1, 1, 1])"
      ]
     },
     "execution_count": 6,
     "metadata": {},
     "output_type": "execute_result"
    }
   ],
   "source": [
    "target"
   ]
  },
  {
   "cell_type": "markdown",
   "id": "df6d235b",
   "metadata": {},
   "source": [
    "## Modelling and compile "
   ]
  },
  {
   "cell_type": "code",
   "execution_count": 7,
   "id": "3bc1a502",
   "metadata": {},
   "outputs": [],
   "source": [
    "model = Sequential([\n",
    "    Conv2D(200, (3,3),  input_shape=data.shape[1:]),\n",
    "    Activation('relu'),\n",
    "    MaxPooling2D(2, 2),\n",
    "    Conv2D(100, (3,3)),\n",
    "    Activation('relu'),\n",
    "    MaxPooling2D(2,2),\n",
    "    Flatten(),\n",
    "    Dropout(0.5),\n",
    "    Dense(50, activation='relu'),\n",
    "    Dense(1, activation='sigmoid')\n",
    "])"
   ]
  },
  {
   "cell_type": "code",
   "execution_count": 8,
   "id": "503176b7",
   "metadata": {},
   "outputs": [
    {
     "name": "stdout",
     "output_type": "stream",
     "text": [
      "Model: \"sequential\"\n",
      "_________________________________________________________________\n",
      " Layer (type)                Output Shape              Param #   \n",
      "=================================================================\n",
      " conv2d (Conv2D)             (None, 98, 98, 200)       2000      \n",
      "                                                                 \n",
      " activation (Activation)     (None, 98, 98, 200)       0         \n",
      "                                                                 \n",
      " max_pooling2d (MaxPooling2D  (None, 49, 49, 200)      0         \n",
      " )                                                               \n",
      "                                                                 \n",
      " conv2d_1 (Conv2D)           (None, 47, 47, 100)       180100    \n",
      "                                                                 \n",
      " activation_1 (Activation)   (None, 47, 47, 100)       0         \n",
      "                                                                 \n",
      " max_pooling2d_1 (MaxPooling  (None, 23, 23, 100)      0         \n",
      " 2D)                                                             \n",
      "                                                                 \n",
      " flatten (Flatten)           (None, 52900)             0         \n",
      "                                                                 \n",
      " dropout (Dropout)           (None, 52900)             0         \n",
      "                                                                 \n",
      " dense (Dense)               (None, 50)                2645050   \n",
      "                                                                 \n",
      " dense_1 (Dense)             (None, 1)                 51        \n",
      "                                                                 \n",
      "=================================================================\n",
      "Total params: 2,827,201\n",
      "Trainable params: 2,827,201\n",
      "Non-trainable params: 0\n",
      "_________________________________________________________________\n"
     ]
    }
   ],
   "source": [
    "model.summary()"
   ]
  },
  {
   "cell_type": "code",
   "execution_count": 9,
   "id": "bc539cf1",
   "metadata": {},
   "outputs": [],
   "source": [
    "model.compile(loss='binary_crossentropy',optimizer='adam',metrics=['accuracy'])"
   ]
  },
  {
   "cell_type": "markdown",
   "id": "4398df3b",
   "metadata": {},
   "source": [
    "## Split Data"
   ]
  },
  {
   "cell_type": "code",
   "execution_count": 10,
   "id": "d5027e11",
   "metadata": {},
   "outputs": [],
   "source": [
    "train_data,test_data,train_target,test_target=train_test_split(data,target,test_size=0.2, random_state=1)"
   ]
  },
  {
   "cell_type": "code",
   "execution_count": 11,
   "id": "8ce61b40",
   "metadata": {},
   "outputs": [
    {
     "name": "stdout",
     "output_type": "stream",
     "text": [
      "Jumlah train_data : 8000\n",
      "Jumlah train_target : 8000\n",
      "Jumlah test_data : 2000\n",
      "Jumlah test_target : 2000\n"
     ]
    }
   ],
   "source": [
    "print('Jumlah train_data :', len(train_data))\n",
    "print('Jumlah train_target :', len(train_target))\n",
    "print('Jumlah test_data :', len(test_data))\n",
    "print('Jumlah test_target :', len(test_target))"
   ]
  },
  {
   "cell_type": "markdown",
   "id": "4801e493",
   "metadata": {},
   "source": [
    "## Callback"
   ]
  },
  {
   "cell_type": "code",
   "execution_count": 20,
   "id": "6fcd4b9c",
   "metadata": {},
   "outputs": [],
   "source": [
    "class myCallback(tf.keras.callbacks.Callback):\n",
    "    def on_epoch_end(self, epoch, logs={}):\n",
    "        if(logs.get('accuracy')==1) and (logs.get('val_accuracy')==1):\n",
    "            print(\"\\nAkurasi telah mencapai nilai maksimal, stop training!\")\n",
    "            self.model.stop_training = True\n",
    "callbacks = myCallback()"
   ]
  },
  {
   "cell_type": "markdown",
   "id": "8785fe38",
   "metadata": {},
   "source": [
    "## Training"
   ]
  },
  {
   "cell_type": "code",
   "execution_count": 12,
   "id": "84a0e65e",
   "metadata": {},
   "outputs": [],
   "source": [
    "checkpoint = ModelCheckpoint('model-{epoch:03d}.model',monitor='val_loss',verbose=0,save_best_only=True,mode='auto')"
   ]
  },
  {
   "cell_type": "code",
   "execution_count": 13,
   "id": "f1160ce9",
   "metadata": {},
   "outputs": [
    {
     "name": "stdout",
     "output_type": "stream",
     "text": [
      "Epoch 1/10\n",
      "200/200 [==============================] - ETA: 0s - loss: 0.4142 - accuracy: 0.8052"
     ]
    },
    {
     "name": "stderr",
     "output_type": "stream",
     "text": [
      "WARNING:absl:Found untraced functions such as _jit_compiled_convolution_op, _jit_compiled_convolution_op while saving (showing 2 of 2). These functions will not be directly callable after loading.\n"
     ]
    },
    {
     "name": "stdout",
     "output_type": "stream",
     "text": [
      "INFO:tensorflow:Assets written to: model-001.model\\assets\n"
     ]
    },
    {
     "name": "stderr",
     "output_type": "stream",
     "text": [
      "INFO:tensorflow:Assets written to: model-001.model\\assets\n"
     ]
    },
    {
     "name": "stdout",
     "output_type": "stream",
     "text": [
      "200/200 [==============================] - 297s 1s/step - loss: 0.4142 - accuracy: 0.8052 - val_loss: 0.2458 - val_accuracy: 0.9075\n",
      "Epoch 2/10\n",
      "200/200 [==============================] - ETA: 0s - loss: 0.2363 - accuracy: 0.9041"
     ]
    },
    {
     "name": "stderr",
     "output_type": "stream",
     "text": [
      "WARNING:absl:Found untraced functions such as _jit_compiled_convolution_op, _jit_compiled_convolution_op while saving (showing 2 of 2). These functions will not be directly callable after loading.\n"
     ]
    },
    {
     "name": "stdout",
     "output_type": "stream",
     "text": [
      "INFO:tensorflow:Assets written to: model-002.model\\assets\n"
     ]
    },
    {
     "name": "stderr",
     "output_type": "stream",
     "text": [
      "INFO:tensorflow:Assets written to: model-002.model\\assets\n"
     ]
    },
    {
     "name": "stdout",
     "output_type": "stream",
     "text": [
      "200/200 [==============================] - 308s 2s/step - loss: 0.2363 - accuracy: 0.9041 - val_loss: 0.2102 - val_accuracy: 0.9131\n",
      "Epoch 3/10\n",
      "200/200 [==============================] - ETA: 0s - loss: 0.1756 - accuracy: 0.9331"
     ]
    },
    {
     "name": "stderr",
     "output_type": "stream",
     "text": [
      "WARNING:absl:Found untraced functions such as _jit_compiled_convolution_op, _jit_compiled_convolution_op while saving (showing 2 of 2). These functions will not be directly callable after loading.\n"
     ]
    },
    {
     "name": "stdout",
     "output_type": "stream",
     "text": [
      "INFO:tensorflow:Assets written to: model-003.model\\assets\n"
     ]
    },
    {
     "name": "stderr",
     "output_type": "stream",
     "text": [
      "INFO:tensorflow:Assets written to: model-003.model\\assets\n"
     ]
    },
    {
     "name": "stdout",
     "output_type": "stream",
     "text": [
      "200/200 [==============================] - 303s 2s/step - loss: 0.1756 - accuracy: 0.9331 - val_loss: 0.2099 - val_accuracy: 0.9106\n",
      "Epoch 4/10\n",
      "200/200 [==============================] - ETA: 0s - loss: 0.1432 - accuracy: 0.9470"
     ]
    },
    {
     "name": "stderr",
     "output_type": "stream",
     "text": [
      "WARNING:absl:Found untraced functions such as _jit_compiled_convolution_op, _jit_compiled_convolution_op while saving (showing 2 of 2). These functions will not be directly callable after loading.\n"
     ]
    },
    {
     "name": "stdout",
     "output_type": "stream",
     "text": [
      "INFO:tensorflow:Assets written to: model-004.model\\assets\n"
     ]
    },
    {
     "name": "stderr",
     "output_type": "stream",
     "text": [
      "INFO:tensorflow:Assets written to: model-004.model\\assets\n"
     ]
    },
    {
     "name": "stdout",
     "output_type": "stream",
     "text": [
      "200/200 [==============================] - 296s 1s/step - loss: 0.1432 - accuracy: 0.9470 - val_loss: 0.1305 - val_accuracy: 0.9538\n",
      "Epoch 5/10\n",
      "200/200 [==============================] - ETA: 0s - loss: 0.1164 - accuracy: 0.9558"
     ]
    },
    {
     "name": "stderr",
     "output_type": "stream",
     "text": [
      "WARNING:absl:Found untraced functions such as _jit_compiled_convolution_op, _jit_compiled_convolution_op while saving (showing 2 of 2). These functions will not be directly callable after loading.\n"
     ]
    },
    {
     "name": "stdout",
     "output_type": "stream",
     "text": [
      "INFO:tensorflow:Assets written to: model-005.model\\assets\n"
     ]
    },
    {
     "name": "stderr",
     "output_type": "stream",
     "text": [
      "INFO:tensorflow:Assets written to: model-005.model\\assets\n"
     ]
    },
    {
     "name": "stdout",
     "output_type": "stream",
     "text": [
      "200/200 [==============================] - 293s 1s/step - loss: 0.1164 - accuracy: 0.9558 - val_loss: 0.1255 - val_accuracy: 0.9581\n",
      "Epoch 6/10\n",
      "200/200 [==============================] - 277s 1s/step - loss: 0.0920 - accuracy: 0.9656 - val_loss: 0.1271 - val_accuracy: 0.9556\n",
      "Epoch 7/10\n",
      "200/200 [==============================] - ETA: 0s - loss: 0.0751 - accuracy: 0.9716"
     ]
    },
    {
     "name": "stderr",
     "output_type": "stream",
     "text": [
      "WARNING:absl:Found untraced functions such as _jit_compiled_convolution_op, _jit_compiled_convolution_op while saving (showing 2 of 2). These functions will not be directly callable after loading.\n"
     ]
    },
    {
     "name": "stdout",
     "output_type": "stream",
     "text": [
      "INFO:tensorflow:Assets written to: model-007.model\\assets\n"
     ]
    },
    {
     "name": "stderr",
     "output_type": "stream",
     "text": [
      "INFO:tensorflow:Assets written to: model-007.model\\assets\n"
     ]
    },
    {
     "name": "stdout",
     "output_type": "stream",
     "text": [
      "200/200 [==============================] - 285s 1s/step - loss: 0.0751 - accuracy: 0.9716 - val_loss: 0.1168 - val_accuracy: 0.9625\n",
      "Epoch 8/10\n",
      "200/200 [==============================] - ETA: 0s - loss: 0.0605 - accuracy: 0.9777"
     ]
    },
    {
     "name": "stderr",
     "output_type": "stream",
     "text": [
      "WARNING:absl:Found untraced functions such as _jit_compiled_convolution_op, _jit_compiled_convolution_op while saving (showing 2 of 2). These functions will not be directly callable after loading.\n"
     ]
    },
    {
     "name": "stdout",
     "output_type": "stream",
     "text": [
      "INFO:tensorflow:Assets written to: model-008.model\\assets\n"
     ]
    },
    {
     "name": "stderr",
     "output_type": "stream",
     "text": [
      "INFO:tensorflow:Assets written to: model-008.model\\assets\n"
     ]
    },
    {
     "name": "stdout",
     "output_type": "stream",
     "text": [
      "200/200 [==============================] - 297s 1s/step - loss: 0.0605 - accuracy: 0.9777 - val_loss: 0.1145 - val_accuracy: 0.9675\n",
      "Epoch 9/10\n",
      "200/200 [==============================] - 287s 1s/step - loss: 0.0525 - accuracy: 0.9803 - val_loss: 0.1604 - val_accuracy: 0.9531\n",
      "Epoch 10/10\n",
      "200/200 [==============================] - 301s 2s/step - loss: 0.0428 - accuracy: 0.9839 - val_loss: 0.1213 - val_accuracy: 0.9688\n"
     ]
    }
   ],
   "source": [
    "history=model.fit(train_data,\n",
    "                  train_target,\n",
    "                  epochs=10,\n",
    "                  validation_split=0.2,\n",
    "                  callbacks=[checkpoint]\n",
    "                  )"
   ]
  },
  {
   "cell_type": "markdown",
   "id": "bd19978b",
   "metadata": {},
   "source": [
    "## Plot Accuracy and Loss "
   ]
  },
  {
   "cell_type": "code",
   "execution_count": 15,
   "id": "b06bbab6",
   "metadata": {},
   "outputs": [
    {
     "data": {
      "image/png": "[encoded data removed]",
      "text/plain": [
       "<Figure size 432x288 with 1 Axes>"
      ]
     },
     "metadata": {
      "needs_background": "light"
     },
     "output_type": "display_data"
    }
   ],
   "source": [
    "plt.plot(history.history['accuracy'],'r',label='training accuracy')\n",
    "plt.plot(history.history['val_accuracy'],label='validation accuracy')\n",
    "plt.xlabel('Epochs')\n",
    "plt.ylabel('Accuracy')\n",
    "plt.legend()\n",
    "plt.show()"
   ]
  },
  {
   "cell_type": "code",
   "execution_count": 16,
   "id": "afb1e60d",
   "metadata": {},
   "outputs": [
    {
     "data": {
      "image/png": "[encoded data removed]",
      "text/plain": [
       "<Figure size 432x288 with 1 Axes>"
      ]
     },
     "metadata": {
      "needs_background": "light"
     },
     "output_type": "display_data"
    }
   ],
   "source": [
    "plt.plot(history.history['loss'],'r',label='training loss')\n",
    "plt.plot(history.history['val_loss'],label='validation loss')\n",
    "plt.xlabel('Epochs')\n",
    "plt.ylabel('Loss')\n",
    "plt.legend()\n",
    "plt.show()"
   ]
  },
  {
   "cell_type": "markdown",
   "id": "b9fa0cbb",
   "metadata": {},
   "source": [
    "## Evaluate and Save Model"
   ]
  },
  {
   "cell_type": "code",
   "execution_count": 17,
   "id": "6cce1562",
   "metadata": {},
   "outputs": [
    {
     "name": "stdout",
     "output_type": "stream",
     "text": [
      "70/70 [==============================] - 6s 79ms/step - loss: 6.6772e-08 - accuracy: 1.0000\n",
      "[6.677247199604608e-08, 1.0]\n"
     ]
    }
   ],
   "source": [
    "print(model.evaluate(test_data,test_target))"
   ]
  },
  {
   "cell_type": "code",
   "execution_count": 25,
   "id": "ef0e4ef5",
   "metadata": {},
   "outputs": [],
   "source": [
    "model.save('facemask-detection-model.h5')"
   ]
  }
 ],
 "metadata": {
  "kernelspec": {
   "display_name": "Python 3",
   "language": "python",
   "name": "python3"
  },
  "language_info": {
   "codemirror_mode": {
    "name": "ipython",
    "version": 3
   },
   "file_extension": ".py",
   "mimetype": "text/x-python",
   "name": "python",
   "nbconvert_exporter": "python",
   "pygments_lexer": "ipython3",
   "version": "3.8.8"
  }
 },
 "nbformat": 4,
 "nbformat_minor": 5
}
