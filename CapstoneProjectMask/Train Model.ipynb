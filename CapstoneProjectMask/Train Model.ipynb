{
 "cells": [
  {
   "cell_type": "markdown",
   "id": "73538f87",
   "metadata": {},
   "source": [
    "## Import Library"
   ]
  },
  {
   "cell_type": "code",
   "execution_count": 1,
   "id": "6ef25a3f",
   "metadata": {},
   "outputs": [],
   "source": [
    "import os\n",
    "import cv2\n",
    "import numpy as np\n",
    "from keras.utils import np_utils\n",
    "from sklearn.model_selection import train_test_split\n",
    "import tensorflow as tf\n",
    "from keras.models import Sequential\n",
    "from keras.layers import Dense,Activation,Flatten,Dropout\n",
    "from keras.layers import Conv2D,MaxPooling2D\n",
    "from tensorflow.keras.preprocessing import image\n",
    "from matplotlib import pyplot as plt"
   ]
  },
  {
   "cell_type": "markdown",
   "id": "b5b0edc0",
   "metadata": {},
   "source": [
    "## Load Data"
   ]
  },
  {
   "cell_type": "code",
   "execution_count": 2,
   "id": "e15cc2b5",
   "metadata": {},
   "outputs": [
    {
     "name": "stdout",
     "output_type": "stream",
     "text": [
      "['with_mask', 'without_mask']\n",
      "[0, 1]\n",
      "{'with_mask': 0, 'without_mask': 1}\n"
     ]
    }
   ],
   "source": [
    "base_dir = 'FaceMask-Dataset'\n",
    "categories = ['with_mask', 'without_mask']\n",
    "labels = [i for i in range (len(categories))]\n",
    "label_dict = dict(zip(categories, labels))\n",
    "\n",
    "print(categories)\n",
    "print(labels)\n",
    "print(label_dict)"
   ]
  },
  {
   "cell_type": "markdown",
   "id": "87618d41",
   "metadata": {},
   "source": [
    "## Data Preprocessing"
   ]
  },
  {
   "cell_type": "code",
   "execution_count": 3,
   "id": "2eaab2cd",
   "metadata": {},
   "outputs": [],
   "source": [
    "img_size=100\n",
    "data=[]\n",
    "target=[]\n",
    "\n",
    "for category in categories:\n",
    "    path=os.path.join(base_dir,category)\n",
    "    img_names=os.listdir(path)\n",
    "        \n",
    "    for img_name in img_names:\n",
    "        img_path=os.path.join(path,img_name)\n",
    "        img=cv2.imread(img_path)\n",
    "\n",
    "        try:\n",
    "            gray=cv2.cvtColor(img,cv2.COLOR_BGR2GRAY) \n",
    "            resized=cv2.resize(gray,(img_size,img_size))\n",
    "            data.append(resized)\n",
    "            target.append(label_dict[category])\n",
    "\n",
    "        except Exception as e:\n",
    "            print('Exception:',e) "
   ]
  },
  {
   "cell_type": "code",
   "execution_count": 4,
   "id": "736251ea",
   "metadata": {},
   "outputs": [],
   "source": [
    "data=np.array(data)/255.0\n",
    "data=np.reshape(data,(data.shape[0],img_size,img_size,1))\n",
    "target=np.array(target)\n",
    "target=np_utils.to_categorical(target)"
   ]
  },
  {
   "cell_type": "code",
   "execution_count": 5,
   "id": "bd276c44",
   "metadata": {},
   "outputs": [
    {
     "data": {
      "text/plain": [
       "array([[[[0.80784314],\n",
       "         [0.81176471],\n",
       "         [0.81176471],\n",
       "         ...,\n",
       "         [0.80392157],\n",
       "         [0.80392157],\n",
       "         [0.8       ]],\n",
       "\n",
       "        [[0.80392157],\n",
       "         [0.80392157],\n",
       "         [0.81568627],\n",
       "         ...,\n",
       "         [0.80392157],\n",
       "         [0.80784314],\n",
       "         [0.80784314]],\n",
       "\n",
       "        [[0.80784314],\n",
       "         [0.81176471],\n",
       "         [0.81568627],\n",
       "         ...,\n",
       "         [0.80784314],\n",
       "         [0.80784314],\n",
       "         [0.80392157]],\n",
       "\n",
       "        ...,\n",
       "\n",
       "        [[0.81568627],\n",
       "         [0.80392157],\n",
       "         [0.81568627],\n",
       "         ...,\n",
       "         [0.80784314],\n",
       "         [0.80392157],\n",
       "         [0.81176471]],\n",
       "\n",
       "        [[0.80392157],\n",
       "         [0.80392157],\n",
       "         [0.81176471],\n",
       "         ...,\n",
       "         [0.80392157],\n",
       "         [0.80392157],\n",
       "         [0.81176471]],\n",
       "\n",
       "        [[0.79607843],\n",
       "         [0.80784314],\n",
       "         [0.80784314],\n",
       "         ...,\n",
       "         [0.81176471],\n",
       "         [0.80784314],\n",
       "         [0.79215686]]],\n",
       "\n",
       "\n",
       "       [[[0.80784314],\n",
       "         [0.81176471],\n",
       "         [0.81176471],\n",
       "         ...,\n",
       "         [0.80392157],\n",
       "         [0.80392157],\n",
       "         [0.8       ]],\n",
       "\n",
       "        [[0.80392157],\n",
       "         [0.80392157],\n",
       "         [0.81568627],\n",
       "         ...,\n",
       "         [0.80392157],\n",
       "         [0.80784314],\n",
       "         [0.80784314]],\n",
       "\n",
       "        [[0.80784314],\n",
       "         [0.81176471],\n",
       "         [0.81568627],\n",
       "         ...,\n",
       "         [0.80784314],\n",
       "         [0.80784314],\n",
       "         [0.80392157]],\n",
       "\n",
       "        ...,\n",
       "\n",
       "        [[0.81568627],\n",
       "         [0.80392157],\n",
       "         [0.81568627],\n",
       "         ...,\n",
       "         [0.80784314],\n",
       "         [0.80392157],\n",
       "         [0.81176471]],\n",
       "\n",
       "        [[0.80392157],\n",
       "         [0.80392157],\n",
       "         [0.81176471],\n",
       "         ...,\n",
       "         [0.80392157],\n",
       "         [0.80392157],\n",
       "         [0.81176471]],\n",
       "\n",
       "        [[0.79607843],\n",
       "         [0.80784314],\n",
       "         [0.80784314],\n",
       "         ...,\n",
       "         [0.81176471],\n",
       "         [0.80784314],\n",
       "         [0.79215686]]],\n",
       "\n",
       "\n",
       "       [[[0.80392157],\n",
       "         [0.81960784],\n",
       "         [0.8       ],\n",
       "         ...,\n",
       "         [0.80392157],\n",
       "         [0.8       ],\n",
       "         [0.81176471]],\n",
       "\n",
       "        [[0.8       ],\n",
       "         [0.80784314],\n",
       "         [0.80392157],\n",
       "         ...,\n",
       "         [0.8       ],\n",
       "         [0.80392157],\n",
       "         [0.81176471]],\n",
       "\n",
       "        [[0.80392157],\n",
       "         [0.80784314],\n",
       "         [0.80784314],\n",
       "         ...,\n",
       "         [0.80784314],\n",
       "         [0.80392157],\n",
       "         [0.80392157]],\n",
       "\n",
       "        ...,\n",
       "\n",
       "        [[0.80392157],\n",
       "         [0.80784314],\n",
       "         [0.80784314],\n",
       "         ...,\n",
       "         [0.81176471],\n",
       "         [0.80784314],\n",
       "         [0.80784314]],\n",
       "\n",
       "        [[0.80392157],\n",
       "         [0.80392157],\n",
       "         [0.80784314],\n",
       "         ...,\n",
       "         [0.80392157],\n",
       "         [0.81176471],\n",
       "         [0.81176471]],\n",
       "\n",
       "        [[0.80392157],\n",
       "         [0.8       ],\n",
       "         [0.80784314],\n",
       "         ...,\n",
       "         [0.81176471],\n",
       "         [0.80784314],\n",
       "         [0.80784314]]],\n",
       "\n",
       "\n",
       "       ...,\n",
       "\n",
       "\n",
       "       [[[0.        ],\n",
       "         [0.        ],\n",
       "         [0.        ],\n",
       "         ...,\n",
       "         [0.        ],\n",
       "         [0.        ],\n",
       "         [0.        ]],\n",
       "\n",
       "        [[0.        ],\n",
       "         [0.        ],\n",
       "         [0.        ],\n",
       "         ...,\n",
       "         [0.        ],\n",
       "         [0.        ],\n",
       "         [0.        ]],\n",
       "\n",
       "        [[0.        ],\n",
       "         [0.        ],\n",
       "         [0.        ],\n",
       "         ...,\n",
       "         [0.        ],\n",
       "         [0.        ],\n",
       "         [0.        ]],\n",
       "\n",
       "        ...,\n",
       "\n",
       "        [[0.        ],\n",
       "         [0.        ],\n",
       "         [0.        ],\n",
       "         ...,\n",
       "         [0.        ],\n",
       "         [0.        ],\n",
       "         [0.        ]],\n",
       "\n",
       "        [[0.        ],\n",
       "         [0.        ],\n",
       "         [0.        ],\n",
       "         ...,\n",
       "         [0.        ],\n",
       "         [0.        ],\n",
       "         [0.        ]],\n",
       "\n",
       "        [[0.        ],\n",
       "         [0.        ],\n",
       "         [0.        ],\n",
       "         ...,\n",
       "         [0.        ],\n",
       "         [0.        ],\n",
       "         [0.        ]]],\n",
       "\n",
       "\n",
       "       [[[0.90980392],\n",
       "         [0.92941176],\n",
       "         [0.98039216],\n",
       "         ...,\n",
       "         [0.87058824],\n",
       "         [0.85882353],\n",
       "         [0.8       ]],\n",
       "\n",
       "        [[0.84313725],\n",
       "         [0.91764706],\n",
       "         [0.96470588],\n",
       "         ...,\n",
       "         [0.97254902],\n",
       "         [0.94901961],\n",
       "         [0.87843137]],\n",
       "\n",
       "        [[0.89411765],\n",
       "         [0.85882353],\n",
       "         [0.98039216],\n",
       "         ...,\n",
       "         [0.9254902 ],\n",
       "         [0.82352941],\n",
       "         [0.85098039]],\n",
       "\n",
       "        ...,\n",
       "\n",
       "        [[0.1372549 ],\n",
       "         [0.10980392],\n",
       "         [0.17647059],\n",
       "         ...,\n",
       "         [0.08235294],\n",
       "         [0.89411765],\n",
       "         [0.94117647]],\n",
       "\n",
       "        [[0.03921569],\n",
       "         [0.0745098 ],\n",
       "         [0.02352941],\n",
       "         ...,\n",
       "         [0.07058824],\n",
       "         [0.42352941],\n",
       "         [0.92156863]],\n",
       "\n",
       "        [[0.09411765],\n",
       "         [0.08627451],\n",
       "         [0.05882353],\n",
       "         ...,\n",
       "         [0.07058824],\n",
       "         [0.07058824],\n",
       "         [0.89411765]]],\n",
       "\n",
       "\n",
       "       [[[0.9254902 ],\n",
       "         [0.96078431],\n",
       "         [0.95294118],\n",
       "         ...,\n",
       "         [0.90588235],\n",
       "         [0.90196078],\n",
       "         [0.79215686]],\n",
       "\n",
       "        [[0.94117647],\n",
       "         [0.89019608],\n",
       "         [0.92941176],\n",
       "         ...,\n",
       "         [0.88627451],\n",
       "         [0.88627451],\n",
       "         [0.89019608]],\n",
       "\n",
       "        [[0.95294118],\n",
       "         [0.87843137],\n",
       "         [0.94901961],\n",
       "         ...,\n",
       "         [0.94509804],\n",
       "         [0.90196078],\n",
       "         [0.89803922]],\n",
       "\n",
       "        ...,\n",
       "\n",
       "        [[0.0745098 ],\n",
       "         [0.17254902],\n",
       "         [0.15686275],\n",
       "         ...,\n",
       "         [0.02745098],\n",
       "         [0.90196078],\n",
       "         [0.95294118]],\n",
       "\n",
       "        [[0.12941176],\n",
       "         [0.05882353],\n",
       "         [0.03529412],\n",
       "         ...,\n",
       "         [0.08627451],\n",
       "         [0.44705882],\n",
       "         [0.98039216]],\n",
       "\n",
       "        [[0.07843137],\n",
       "         [0.09411765],\n",
       "         [0.08235294],\n",
       "         ...,\n",
       "         [0.1372549 ],\n",
       "         [0.09803922],\n",
       "         [0.91372549]]]])"
      ]
     },
     "execution_count": 5,
     "metadata": {},
     "output_type": "execute_result"
    }
   ],
   "source": [
    "data"
   ]
  },
  {
   "cell_type": "code",
   "execution_count": 6,
   "id": "335ffad4",
   "metadata": {},
   "outputs": [
    {
     "data": {
      "text/plain": [
       "array([[1., 0.],\n",
       "       [1., 0.],\n",
       "       [1., 0.],\n",
       "       ...,\n",
       "       [0., 1.],\n",
       "       [0., 1.],\n",
       "       [0., 1.]], dtype=float32)"
      ]
     },
     "execution_count": 6,
     "metadata": {},
     "output_type": "execute_result"
    }
   ],
   "source": [
    "target"
   ]
  },
  {
   "cell_type": "markdown",
   "id": "df6d235b",
   "metadata": {},
   "source": [
    "## Modelling and compile "
   ]
  },
  {
   "cell_type": "code",
   "execution_count": 7,
   "id": "3bc1a502",
   "metadata": {},
   "outputs": [],
   "source": [
    "model = Sequential([\n",
    "    Conv2D(32, (3,3), activation='relu',  input_shape=data.shape[1:]),\n",
    "    MaxPooling2D(2, 2),\n",
    "    Conv2D(64, (3,3), activation='relu'),\n",
    "    MaxPooling2D(2,2),\n",
    "    Flatten(),\n",
    "    Dropout(0.5),\n",
    "    Dense(50, activation='relu'),\n",
    "    Dense(2, activation='softmax')\n",
    "])"
   ]
  },
  {
   "cell_type": "code",
   "execution_count": 8,
   "id": "503176b7",
   "metadata": {},
   "outputs": [
    {
     "name": "stdout",
     "output_type": "stream",
     "text": [
      "Model: \"sequential\"\n",
      "_________________________________________________________________\n",
      " Layer (type)                Output Shape              Param #   \n",
      "=================================================================\n",
      " conv2d (Conv2D)             (None, 98, 98, 32)        320       \n",
      "                                                                 \n",
      " max_pooling2d (MaxPooling2D  (None, 49, 49, 32)       0         \n",
      " )                                                               \n",
      "                                                                 \n",
      " conv2d_1 (Conv2D)           (None, 47, 47, 64)        18496     \n",
      "                                                                 \n",
      " max_pooling2d_1 (MaxPooling  (None, 23, 23, 64)       0         \n",
      " 2D)                                                             \n",
      "                                                                 \n",
      " flatten (Flatten)           (None, 33856)             0         \n",
      "                                                                 \n",
      " dropout (Dropout)           (None, 33856)             0         \n",
      "                                                                 \n",
      " dense (Dense)               (None, 50)                1692850   \n",
      "                                                                 \n",
      " dense_1 (Dense)             (None, 2)                 102       \n",
      "                                                                 \n",
      "=================================================================\n",
      "Total params: 1,711,768\n",
      "Trainable params: 1,711,768\n",
      "Non-trainable params: 0\n",
      "_________________________________________________________________\n"
     ]
    }
   ],
   "source": [
    "model.summary()"
   ]
  },
  {
   "cell_type": "code",
   "execution_count": 9,
   "id": "bc539cf1",
   "metadata": {},
   "outputs": [],
   "source": [
    "model.compile(loss='binary_crossentropy',optimizer='adam',metrics=['accuracy'])"
   ]
  },
  {
   "cell_type": "markdown",
   "id": "4398df3b",
   "metadata": {},
   "source": [
    "## Split Data"
   ]
  },
  {
   "cell_type": "code",
   "execution_count": 10,
   "id": "d5027e11",
   "metadata": {},
   "outputs": [],
   "source": [
    "train_data,test_data,train_target,test_target=train_test_split(data,target,test_size=0.2, random_state=1)"
   ]
  },
  {
   "cell_type": "code",
   "execution_count": 11,
   "id": "8ce61b40",
   "metadata": {},
   "outputs": [
    {
     "name": "stdout",
     "output_type": "stream",
     "text": [
      "Jumlah train_data : 8000\n",
      "Jumlah train_target : 8000\n",
      "Jumlah test_data : 2000\n",
      "Jumlah test_target : 2000\n"
     ]
    }
   ],
   "source": [
    "print('Jumlah train_data :', len(train_data))\n",
    "print('Jumlah train_target :', len(train_target))\n",
    "print('Jumlah test_data :', len(test_data))\n",
    "print('Jumlah test_target :', len(test_target))"
   ]
  },
  {
   "cell_type": "markdown",
   "id": "8785fe38",
   "metadata": {},
   "source": [
    "## Training"
   ]
  },
  {
   "cell_type": "code",
   "execution_count": 12,
   "id": "f1160ce9",
   "metadata": {},
   "outputs": [
    {
     "name": "stdout",
     "output_type": "stream",
     "text": [
      "Epoch 1/10\n",
      "200/200 [==============================] - 61s 248ms/step - loss: 0.3752 - accuracy: 0.8322 - val_loss: 0.2430 - val_accuracy: 0.8969\n",
      "Epoch 2/10\n",
      "200/200 [==============================] - 49s 245ms/step - loss: 0.2043 - accuracy: 0.9230 - val_loss: 0.1752 - val_accuracy: 0.9344\n",
      "Epoch 3/10\n",
      "200/200 [==============================] - 49s 245ms/step - loss: 0.1636 - accuracy: 0.9392 - val_loss: 0.1520 - val_accuracy: 0.9450\n",
      "Epoch 4/10\n",
      "200/200 [==============================] - 48s 240ms/step - loss: 0.1267 - accuracy: 0.9536 - val_loss: 0.1314 - val_accuracy: 0.9594\n",
      "Epoch 5/10\n",
      "200/200 [==============================] - 49s 244ms/step - loss: 0.1081 - accuracy: 0.9597 - val_loss: 0.1297 - val_accuracy: 0.9613\n",
      "Epoch 6/10\n",
      "200/200 [==============================] - 49s 247ms/step - loss: 0.0900 - accuracy: 0.9666 - val_loss: 0.1388 - val_accuracy: 0.9525\n",
      "Epoch 7/10\n",
      "200/200 [==============================] - 49s 245ms/step - loss: 0.0717 - accuracy: 0.9745 - val_loss: 0.1166 - val_accuracy: 0.9694\n",
      "Epoch 8/10\n",
      "200/200 [==============================] - 49s 247ms/step - loss: 0.0553 - accuracy: 0.9795 - val_loss: 0.1266 - val_accuracy: 0.9650\n",
      "Epoch 9/10\n",
      "200/200 [==============================] - 49s 244ms/step - loss: 0.0471 - accuracy: 0.9820 - val_loss: 0.1267 - val_accuracy: 0.9600\n",
      "Epoch 10/10\n",
      "200/200 [==============================] - 49s 246ms/step - loss: 0.0413 - accuracy: 0.9858 - val_loss: 0.1318 - val_accuracy: 0.9675\n"
     ]
    }
   ],
   "source": [
    "history=model.fit(train_data,\n",
    "                  train_target,\n",
    "                  epochs=10,\n",
    "                  validation_split=0.2\n",
    "                  )"
   ]
  },
  {
   "cell_type": "markdown",
   "id": "bd19978b",
   "metadata": {},
   "source": [
    "## Plot Accuracy and Loss "
   ]
  },
  {
   "cell_type": "code",
   "execution_count": 13,
   "id": "b06bbab6",
   "metadata": {},
   "outputs": [
    {
     "data": {
      "image/png": "[encoded data removed]",
      "text/plain": [
       "<Figure size 432x288 with 1 Axes>"
      ]
     },
     "metadata": {
      "needs_background": "light"
     },
     "output_type": "display_data"
    }
   ],
   "source": [
    "plt.plot(history.history['accuracy'],'r',label='training accuracy')\n",
    "plt.plot(history.history['val_accuracy'],label='validation accuracy')\n",
    "plt.xlabel('Epochs')\n",
    "plt.ylabel('Accuracy')\n",
    "plt.legend()\n",
    "plt.show()"
   ]
  },
  {
   "cell_type": "code",
   "execution_count": 14,
   "id": "afb1e60d",
   "metadata": {},
   "outputs": [
    {
     "data": {
      "image/png": "[encoded data removed]",
      "text/plain": [
       "<Figure size 432x288 with 1 Axes>"
      ]
     },
     "metadata": {
      "needs_background": "light"
     },
     "output_type": "display_data"
    }
   ],
   "source": [
    "plt.plot(history.history['loss'],'r',label='training loss')\n",
    "plt.plot(history.history['val_loss'],label='validation loss')\n",
    "plt.xlabel('Epochs')\n",
    "plt.ylabel('Loss')\n",
    "plt.legend()\n",
    "plt.show()"
   ]
  },
  {
   "cell_type": "markdown",
   "id": "b9fa0cbb",
   "metadata": {},
   "source": [
    "## Evaluate and Save Model"
   ]
  },
  {
   "cell_type": "code",
   "execution_count": 15,
   "id": "6cce1562",
   "metadata": {},
   "outputs": [
    {
     "name": "stdout",
     "output_type": "stream",
     "text": [
      "63/63 [==============================] - 3s 49ms/step - loss: 0.1574 - accuracy: 0.9585\n",
      "[0.15740954875946045, 0.9585000276565552]\n"
     ]
    }
   ],
   "source": [
    "print(model.evaluate(test_data,test_target))"
   ]
  },
  {
   "cell_type": "code",
   "execution_count": 25,
   "id": "85fb4d63",
   "metadata": {},
   "outputs": [
    {
     "name": "stdout",
     "output_type": "stream",
     "text": [
      "1/1 [==============================] - 0s 19ms/step\n",
      "With Mask\n"
     ]
    },
    {
     "data": {
      "image/png": "[encoded data removed]",
      "text/plain": [
       "<Figure size 432x288 with 1 Axes>"
      ]
     },
     "metadata": {
      "needs_background": "light"
     },
     "output_type": "display_data"
    }
   ],
   "source": [
    "image = cv2.imread('wm3.jpg')\n",
    "gray=cv2.cvtColor(image,cv2.COLOR_BGR2GRAY)\n",
    "imgplot = plt.imshow(image)\n",
    "resized=cv2.resize(gray,(100,100))\n",
    "normalized=resized/255.0\n",
    "reshaped=np.reshape(normalized,(1,100,100,1))\n",
    "result=model.predict(reshaped)\n",
    "\n",
    "label=np.argmax(result,axis=1)[0]\n",
    "if label==0:\n",
    "    print ('With Mask')\n",
    "else:\n",
    "    print ('Without Mask')"
   ]
  },
  {
   "cell_type": "code",
   "execution_count": 26,
   "id": "ef0e4ef5",
   "metadata": {},
   "outputs": [],
   "source": [
    "model.save('facemask-detection-model.h5')"
   ]
  }
 ],
 "metadata": {
  "kernelspec": {
   "display_name": "Python 3",
   "language": "python",
   "name": "python3"
  },
  "language_info": {
   "codemirror_mode": {
    "name": "ipython",
    "version": 3
   },
   "file_extension": ".py",
   "mimetype": "text/x-python",
   "name": "python",
   "nbconvert_exporter": "python",
   "pygments_lexer": "ipython3",
   "version": "3.8.8"
  }
 },
 "nbformat": 4,
 "nbformat_minor": 5
}
